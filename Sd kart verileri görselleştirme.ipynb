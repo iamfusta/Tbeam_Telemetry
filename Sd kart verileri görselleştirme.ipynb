import pandas as pd
from geopy.distance import geodesic
import folium
from google.colab import files

# Veriyi yüklemek için
uploaded = files.upload()

# Dosya adını belirleyin (yüklediğiniz dosyanın adını girin)
file_name = list(uploaded.keys())[0]  # Upload edilen dosyanın adını alır

# Verileri yükleme
gps_data = pd.read_csv(file_name)

# Zaman sütununu datetime formatına dönüştürme
gps_data['Timestamp'] = pd.to_datetime(gps_data['Timestamp'])

# Latitude ve Longitude verileri mevcut olan satırları seçme
gps_data = gps_data.dropna(subset=['Lat', 'Lng'])

# Toplam mesafeyi hesaplama
total_distance = 0
previous_point = None

for index, row in gps_data.iterrows():
    current_point = (row['Lat'], row['Lng'])
    if previous_point:
        distance = geodesic(previous_point, current_point).meters
        if distance < 1000:  # Anormal büyük mesafeleri filtreleme (örneğin 1000 metreden büyük)
            total_distance += distance
    previous_point = current_point

# Toplam süreyi hesaplama
start_time = gps_data['Timestamp'].min()
end_time = gps_data['Timestamp'].max()
total_duration = end_time - start_time
total_minutes = total_duration.total_seconds() / 60

# Toplam ölçüm sayısını hesaplama
total_measurements = gps_data.shape[0]

# Latitude ve Longitude kolonlarındaki benzersiz konum sayısını bulma
unique_locations = gps_data.drop_duplicates(subset=['Lat', 'Lng'])
num_unique_locations = unique_locations.shape[0]

# Ortalama hızı hesaplama
average_speed = gps_data['Speed'].mean() if 'Speed' in gps_data.columns else None

# Ortalama konum doğruluğunu (HDOP) hesaplama
average_hdop = gps_data['HDOP'].mean() if 'HDOP' in gps_data.columns else None

# İrtifa değişikliklerini hesaplama (varsa)
if 'Altitude' in gps_data.columns:
    altitude_change = gps_data['Altitude'].max() - gps_data['Altitude'].min()
else:
    altitude_change = None

# Rota üzerinde görselleştirme
m = folium.Map(location=[gps_data['Lat'].mean(), gps_data['Lng'].mean()], zoom_start=13)
points = gps_data[['Lat', 'Lng']].values.tolist()
folium.PolyLine(points, color="blue", weight=2.5, opacity=1).add_to(m)

# Haritayı kaydetme
m.save('route_map.html')

# HTML dosyasını indirmek için
files.download('route_map.html')

# Sonuçları yazdırma
print(f'Geçen toplam süre: {total_minutes:.2f} dakika')
print(f'Toplam ölçüm sayısı: {total_measurements}')
print(f'Farklı konum sayısı: {num_unique_locations}')
print(f'Ortalama hız: {average_speed:.2f} km/h' if average_speed is not None else 'Hız verisi mevcut değil')
print(f'Ortalama konum doğruluğu (HDOP): {average_hdop:.2f}' if average_hdop is not None else 'HDOP verisi mevcut değil')
if altitude_change is not None:
    print(f'İrtifa değişikliği: {altitude_change:.2f} metre')
else:
    print('İrtifa verisi mevcut değil')

# Haritayı gösterme
m
